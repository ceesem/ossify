{
 "cells": [
  {
   "cell_type": "code",
   "execution_count": null,
   "id": "bb7d8dd0",
   "metadata": {},
   "outputs": [],
   "source": [
    "# %%\n",
    "import time\n",
    "\n",
    "import matplotlib.pyplot as plt\n",
    "import numpy as np\n",
    "import ossify\n",
    "import pyvista as pv\n",
    "from caveclient import CAVEclient\n",
    "\n",
    "root_id = 864691135134585248\n",
    "\n",
    "# %%\n",
    "# 1. What is the synaptic density per unit length of dendrite for subclasses of VIP\n",
    "# interneurons? How does this vary with distance from the soma?\n",
    "#\n",
    "\n",
    "client = CAVEclient(\"minnie65_phase3_v1\")\n",
    "\n",
    "# %%\n",
    "\n",
    "currtime = time.time()\n",
    "\n",
    "ts = client.chunkedgraph.get_root_timestamps([root_id], latest=True)[0]\n",
    "cell = ossify.load_cell_from_client(\n",
    "    root_id,\n",
    "    client,\n",
    "    synapses=True,\n",
    "    restore_graph=False,\n",
    "    restore_properties=True,\n",
    "    synapse_spatial_point=\"ctr_pt_psition\",\n",
    "    timestamp=ts,\n",
    ")\n",
    "print(f\"{time.time() - currtime:.3f} seconds elapsed.\")\n",
    "\n",
    "# %%\n",
    "\n",
    "fig, ax = plt.subplots(figsize=(8, 6))\n",
    "ossify.plot.plot_morphology_2d(\n",
    "    cell,\n",
    "    color=\"compartment\",\n",
    "    projection=\"xy\",\n",
    "    palette=\"coolwarm_r\",\n",
    "    ax=ax,\n",
    "    linewidth=\"radius\",\n",
    "    linewidth_norm=(100, 500),  # Radius range for normalization\n",
    "    widths=(0.05, 3),  # Final line width range\n",
    ")\n",
    "ax.axis(\"off\")\n",
    "\n",
    "# %%\n",
    "\n",
    "# dendrite = cell.apply_mask()\n",
    "skeleton_features = cell.skeleton.get_feature(\"compartment\")\n",
    "dendrite = cell.apply_mask(\"skeleton\", skeleton_features == 3)\n",
    "# %%\n",
    "\n",
    "fig, ax = plt.subplots(figsize=(8, 6))\n",
    "ossify.plot.plot_morphology_2d(\n",
    "    dendrite,\n",
    "    projection=\"xy\",\n",
    "    ax=ax,\n",
    "    linewidth=\"radius\",\n",
    "    linewidth_norm=(100, 500),  # Radius range for normalization\n",
    "    widths=(0.05, 3),  # Final line width range\n",
    ")\n",
    "ax.axis(\"off\")\n",
    "\n",
    "# %%\n",
    "\n",
    "\n",
    "def edges_to_lines(edges):\n",
    "    \"\"\"Convert edges to pyvista lines format.\"\"\"\n",
    "    n_edges = edges.shape[0]\n",
    "    lines = np.hstack(\n",
    "        [np.full((n_edges, 1), 2), edges]\n",
    "    )  # Each line has 2 points, so prepend with 2\n",
    "    return lines.flatten()\n",
    "\n",
    "\n",
    "# plotter = pv.Plotter()\n",
    "# points = dendrite.skeleton.nodes[[\"x\", \"y\", \"z\"]].to_numpy()\n",
    "# edges = dendrite.skeleton.edges_positional\n",
    "# lines = edges_to_lines(edges)\n",
    "# skeleton = pv.PolyData(points, lines=lines)\n",
    "\n",
    "# plotter.add_mesh(skeleton, color=\"black\", line_width=2)\n",
    "\n",
    "# plotter.show()"
   ]
  },
  {
   "cell_type": "code",
   "execution_count": null,
   "id": "1638785d",
   "metadata": {},
   "outputs": [],
   "source": [
    "dendrite.s.nodes.columns.difference(dendrite.s.spatial_columns).tolist()"
   ]
  },
  {
   "cell_type": "code",
   "execution_count": null,
   "id": "c7054550",
   "metadata": {},
   "outputs": [],
   "source": [
    "fig, ax = plt.subplots(figsize=(8, 6))\n",
    "ossify.plot.plot_morphology_2d(\n",
    "    dendrite,\n",
    "    projection=\"xz\",\n",
    "    ax=ax,\n",
    "    linewidth=\"radius\",\n",
    "    linewidth_norm=(100, 500),  # Radius range for normalization\n",
    "    widths=(0.05, 3),  # Final line width range\n",
    ")\n",
    "ax.axis(\"off\")\n"
   ]
  },
  {
   "cell_type": "code",
   "execution_count": null,
   "id": "fd60de42",
   "metadata": {},
   "outputs": [],
   "source": [
    "len(dendrite.s.cover_paths[0])"
   ]
  },
  {
   "cell_type": "code",
   "execution_count": null,
   "id": "9447cd02",
   "metadata": {},
   "outputs": [],
   "source": [
    "dendrite.s.cover_paths_positional[0][103]"
   ]
  },
  {
   "cell_type": "code",
   "execution_count": null,
   "id": "6c856d31",
   "metadata": {},
   "outputs": [],
   "source": [
    "dendrite.s.cover_paths[0][103]"
   ]
  },
  {
   "cell_type": "code",
   "execution_count": null,
   "id": "a737bb01",
   "metadata": {},
   "outputs": [],
   "source": [
    "dendrite.s.parent_node_array[719]"
   ]
  },
  {
   "cell_type": "code",
   "execution_count": null,
   "id": "34791de9",
   "metadata": {},
   "outputs": [],
   "source": [
    "for c in dendrite.s.cover_paths:\n",
    "# c = dendrite.s.cover_paths_positional[ii]\n",
    "    if len(np.where(np.diff(dendrite.s.distance_to_root(c))>0)[0]>0):\n",
    "        print(\"bad\")"
   ]
  },
  {
   "cell_type": "code",
   "execution_count": null,
   "id": "f91f3525",
   "metadata": {},
   "outputs": [],
   "source": []
  },
  {
   "cell_type": "code",
   "execution_count": null,
   "id": "9438e578",
   "metadata": {},
   "outputs": [],
   "source": [
    "# %%\n",
    "import time\n",
    "\n",
    "import matplotlib.pyplot as plt\n",
    "import numpy as np\n",
    "import ossify\n",
    "import pyvista as pv\n",
    "import seaborn as sns\n",
    "from caveclient import CAVEclient\n",
    "\n",
    "root_id = 864691135134585248\n",
    "\n",
    "# %%\n",
    "# 1. What is the synaptic density per unit length of dendrite for subclasses of VIP\n",
    "# interneurons? How does this vary with distance from the soma?\n",
    "#\n",
    "\n",
    "client = CAVEclient(\"minnie65_phase3_v1\")\n",
    "\n",
    "# %%\n",
    "\n",
    "currtime = time.time()\n",
    "\n",
    "ts = client.chunkedgraph.get_root_timestamps([root_id], latest=True)[0]\n",
    "cell = ossify.load_cell_from_client(\n",
    "    root_id,\n",
    "    client,\n",
    "    synapses=True,\n",
    "    restore_graph=False,\n",
    "    restore_properties=True,\n",
    "    synapse_spatial_point=\"ctr_pt_psition\",\n",
    "    timestamp=ts,\n",
    ")\n",
    "print(f\"{time.time() - currtime:.3f} seconds elapsed.\")\n",
    "\n",
    "\n",
    "# %%\n",
    "\n",
    "# dendrite = cell.apply_mask()\n",
    "skeleton_features = cell.skeleton.get_feature(\"compartment\")\n",
    "dendrite = cell.apply_mask(\"skeleton\", skeleton_features == 3)\n",
    "\n",
    "syn_density = (\n",
    "    dendrite.skeleton.map_annotations_to_feature(\n",
    "        \"post_syn\", distance_threshold=10000, agg=\"density\", validate=True\n",
    "    )\n",
    "    * 1000\n",
    ")\n",
    "# sns.set_context(\"talk\")\n",
    "fig, ax = plt.subplots(figsize=(8, 6))\n",
    "sns.histplot(syn_density, ax=ax)\n",
    "ax.set_xfeature(\"Post-synaptic density (synapses/um)\")"
   ]
  },
  {
   "cell_type": "code",
   "execution_count": null,
   "id": "121a027a",
   "metadata": {},
   "outputs": [],
   "source": [
    "agg_df = dendrite.skeleton._map_annotations_to_feature(\n",
    "    \"post_syn\", distance_threshold=20000, agg=\"count\", validate=True, compute_net_path=True, node_weight=dendrite.s.half_edge_length\n",
    ")"
   ]
  },
  {
   "cell_type": "code",
   "execution_count": null,
   "id": "c8775df1",
   "metadata": {},
   "outputs": [],
   "source": [
    "agg_df"
   ]
  },
  {
   "cell_type": "code",
   "execution_count": null,
   "id": "d7d04e85",
   "metadata": {},
   "outputs": [],
   "source": [
    "dendrite.s.half_edge_length"
   ]
  },
  {
   "cell_type": "code",
   "execution_count": null,
   "id": "28de570d",
   "metadata": {},
   "outputs": [],
   "source": [
    "prox_df"
   ]
  },
  {
   "cell_type": "code",
   "execution_count": null,
   "id": "cade712e",
   "metadata": {},
   "outputs": [],
   "source": [
    "agg_df"
   ]
  },
  {
   "cell_type": "code",
   "execution_count": null,
   "id": "b4aad2f2",
   "metadata": {},
   "outputs": [],
   "source": [
    "syn_density"
   ]
  },
  {
   "cell_type": "code",
   "execution_count": null,
   "id": "c789edbd",
   "metadata": {},
   "outputs": [],
   "source": [
    "syn_count = (\n",
    "    dendrite.skeleton.map_annotations_to_feature(\n",
    "        \"post_syn\", distance_threshold=20000, agg=\"count\", validate=True\n",
    "    )\n",
    ")"
   ]
  },
  {
   "cell_type": "code",
   "execution_count": null,
   "id": "7b275967",
   "metadata": {},
   "outputs": [],
   "source": [
    "import pandas as pd"
   ]
  },
  {
   "cell_type": "code",
   "execution_count": null,
   "id": "52e15318",
   "metadata": {},
   "outputs": [],
   "source": []
  },
  {
   "cell_type": "code",
   "execution_count": null,
   "id": "fe81e99b",
   "metadata": {},
   "outputs": [],
   "source": [
    "pd.Series(\n",
    "    data=dendrite.s.half_edge_length,\n",
    "    index=dendrite.s.vertex_index,\n",
    "    name='net_length',\n",
    ")"
   ]
  },
  {
   "cell_type": "code",
   "execution_count": null,
   "id": "28398215",
   "metadata": {},
   "outputs": [],
   "source": [
    "\n"
   ]
  }
 ],
 "metadata": {
  "kernelspec": {
   "display_name": "ossify",
   "language": "python",
   "name": "python3"
  },
  "language_info": {
   "codemirror_mode": {
    "name": "ipython",
    "version": 3
   },
   "file_extension": ".py",
   "mimetype": "text/x-python",
   "name": "python",
   "nbconvert_exporter": "python",
   "pygments_lexer": "ipython3",
   "version": "3.12.7"
  }
 },
 "nbformat": 4,
 "nbformat_minor": 5
}
